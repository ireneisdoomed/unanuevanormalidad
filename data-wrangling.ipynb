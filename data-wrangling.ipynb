{
 "cells": [
  {
   "cell_type": "markdown",
   "metadata": {},
   "source": [
    "# Una nueva normalidad "
   ]
  },
  {
   "cell_type": "markdown",
   "metadata": {},
   "source": [
    "<img src=\"images/highres.jpg\" alt=\"170\" width=\"850\"/>"
   ]
  },
  {
   "cell_type": "code",
   "execution_count": 1,
   "metadata": {},
   "outputs": [],
   "source": [
    "import numpy as np\n",
    "import pandas as pd\n",
    "from pymongo import MongoClient"
   ]
  },
  {
   "cell_type": "code",
   "execution_count": 2,
   "metadata": {},
   "outputs": [],
   "source": [
    "# Two datasets are imported:\n",
    "# prov reports on the situation of the 52 provinces\n",
    "# excep handles the exceptions for all the municipalities inside the province\n",
    "\n",
    "prov = pd.read_csv(\"data/Provincias.csv\", dtype={\"CP\": object})\n",
    "excep = pd.read_csv(\"data/Excepciones.csv\", dtype={\"CP\": object, \"Provincia\": object})"
   ]
  },
  {
   "cell_type": "code",
   "execution_count": 3,
   "metadata": {},
   "outputs": [
    {
     "data": {
      "text/html": [
       "<div>\n",
       "<style scoped>\n",
       "    .dataframe tbody tr th:only-of-type {\n",
       "        vertical-align: middle;\n",
       "    }\n",
       "\n",
       "    .dataframe tbody tr th {\n",
       "        vertical-align: top;\n",
       "    }\n",
       "\n",
       "    .dataframe thead th {\n",
       "        text-align: right;\n",
       "    }\n",
       "</style>\n",
       "<table border=\"1\" class=\"dataframe\">\n",
       "  <thead>\n",
       "    <tr style=\"text-align: right;\">\n",
       "      <th></th>\n",
       "      <th>CP</th>\n",
       "      <th>Provincia</th>\n",
       "      <th>Fase</th>\n",
       "      <th>Excepcion</th>\n",
       "    </tr>\n",
       "  </thead>\n",
       "  <tbody>\n",
       "    <tr>\n",
       "      <th>0</th>\n",
       "      <td>04</td>\n",
       "      <td>Almería</td>\n",
       "      <td>1</td>\n",
       "      <td>FALSE</td>\n",
       "    </tr>\n",
       "    <tr>\n",
       "      <th>1</th>\n",
       "      <td>11</td>\n",
       "      <td>Cádiz</td>\n",
       "      <td>1</td>\n",
       "      <td>FALSE</td>\n",
       "    </tr>\n",
       "    <tr>\n",
       "      <th>2</th>\n",
       "      <td>14</td>\n",
       "      <td>Córdoba</td>\n",
       "      <td>1</td>\n",
       "      <td>FALSE</td>\n",
       "    </tr>\n",
       "    <tr>\n",
       "      <th>3</th>\n",
       "      <td>21</td>\n",
       "      <td>Huelva</td>\n",
       "      <td>1</td>\n",
       "      <td>FALSE</td>\n",
       "    </tr>\n",
       "    <tr>\n",
       "      <th>4</th>\n",
       "      <td>23</td>\n",
       "      <td>Jaén</td>\n",
       "      <td>1</td>\n",
       "      <td>FALSE</td>\n",
       "    </tr>\n",
       "  </tbody>\n",
       "</table>\n",
       "</div>"
      ],
      "text/plain": [
       "   CP Provincia Fase Excepcion\n",
       "0  04   Almería    1     FALSE\n",
       "1  11     Cádiz    1     FALSE\n",
       "2  14   Córdoba    1     FALSE\n",
       "3  21    Huelva    1     FALSE\n",
       "4  23      Jaén    1     FALSE"
      ]
     },
     "metadata": {},
     "output_type": "display_data"
    },
    {
     "data": {
      "text/html": [
       "<div>\n",
       "<style scoped>\n",
       "    .dataframe tbody tr th:only-of-type {\n",
       "        vertical-align: middle;\n",
       "    }\n",
       "\n",
       "    .dataframe tbody tr th {\n",
       "        vertical-align: top;\n",
       "    }\n",
       "\n",
       "    .dataframe thead th {\n",
       "        text-align: right;\n",
       "    }\n",
       "</style>\n",
       "<table border=\"1\" class=\"dataframe\">\n",
       "  <thead>\n",
       "    <tr style=\"text-align: right;\">\n",
       "      <th></th>\n",
       "      <th>Provincia</th>\n",
       "      <th>CP</th>\n",
       "      <th>Municipio</th>\n",
       "      <th>Fase</th>\n",
       "      <th>Territorio</th>\n",
       "    </tr>\n",
       "  </thead>\n",
       "  <tbody>\n",
       "    <tr>\n",
       "      <th>0</th>\n",
       "      <td>12</td>\n",
       "      <td>12570, 12579</td>\n",
       "      <td>Alcalà de Xivert</td>\n",
       "      <td>1</td>\n",
       "      <td>Vinaròs</td>\n",
       "    </tr>\n",
       "    <tr>\n",
       "      <th>1</th>\n",
       "      <td>12</td>\n",
       "      <td>12579</td>\n",
       "      <td>Alcossebre</td>\n",
       "      <td>1</td>\n",
       "      <td>Vinaròs</td>\n",
       "    </tr>\n",
       "    <tr>\n",
       "      <th>2</th>\n",
       "      <td>12</td>\n",
       "      <td>12579</td>\n",
       "      <td>Santa Magdalena de Pulpis</td>\n",
       "      <td>1</td>\n",
       "      <td>Vinaròs</td>\n",
       "    </tr>\n",
       "    <tr>\n",
       "      <th>3</th>\n",
       "      <td>12</td>\n",
       "      <td>12530, 12580</td>\n",
       "      <td>Benicarló</td>\n",
       "      <td>1</td>\n",
       "      <td>Vinaròs</td>\n",
       "    </tr>\n",
       "    <tr>\n",
       "      <th>4</th>\n",
       "      <td>12</td>\n",
       "      <td>12598</td>\n",
       "      <td>Peñíscola</td>\n",
       "      <td>1</td>\n",
       "      <td>Vinaròs</td>\n",
       "    </tr>\n",
       "  </tbody>\n",
       "</table>\n",
       "</div>"
      ],
      "text/plain": [
       "  Provincia            CP                  Municipio  Fase Territorio\n",
       "0        12  12570, 12579           Alcalà de Xivert     1    Vinaròs\n",
       "1        12         12579                 Alcossebre     1    Vinaròs\n",
       "2        12         12579  Santa Magdalena de Pulpis     1    Vinaròs\n",
       "3        12  12530, 12580                  Benicarló     1    Vinaròs\n",
       "4        12         12598                  Peñíscola     1    Vinaròs"
      ]
     },
     "metadata": {},
     "output_type": "display_data"
    }
   ],
   "source": [
    "display(prov.head())\n",
    "display(excep.head())"
   ]
  },
  {
   "cell_type": "markdown",
   "metadata": {},
   "source": [
    "## 🧹 Handling the \"CP\" column"
   ]
  },
  {
   "cell_type": "code",
   "execution_count": 4,
   "metadata": {},
   "outputs": [
    {
     "data": {
      "text/html": [
       "<div>\n",
       "<style scoped>\n",
       "    .dataframe tbody tr th:only-of-type {\n",
       "        vertical-align: middle;\n",
       "    }\n",
       "\n",
       "    .dataframe tbody tr th {\n",
       "        vertical-align: top;\n",
       "    }\n",
       "\n",
       "    .dataframe thead th {\n",
       "        text-align: right;\n",
       "    }\n",
       "</style>\n",
       "<table border=\"1\" class=\"dataframe\">\n",
       "  <thead>\n",
       "    <tr style=\"text-align: right;\">\n",
       "      <th></th>\n",
       "      <th>CP</th>\n",
       "      <th>Municipio</th>\n",
       "      <th>Fase</th>\n",
       "      <th>Territorio</th>\n",
       "    </tr>\n",
       "    <tr>\n",
       "      <th>Provincia</th>\n",
       "      <th></th>\n",
       "      <th></th>\n",
       "      <th></th>\n",
       "      <th></th>\n",
       "    </tr>\n",
       "  </thead>\n",
       "  <tbody>\n",
       "    <tr>\n",
       "      <th>12</th>\n",
       "      <td>12570, 12579</td>\n",
       "      <td>Alcalà de Xivert</td>\n",
       "      <td>1</td>\n",
       "      <td>Vinaròs</td>\n",
       "    </tr>\n",
       "    <tr>\n",
       "      <th>12</th>\n",
       "      <td>12579</td>\n",
       "      <td>Alcossebre</td>\n",
       "      <td>1</td>\n",
       "      <td>Vinaròs</td>\n",
       "    </tr>\n",
       "    <tr>\n",
       "      <th>12</th>\n",
       "      <td>12579</td>\n",
       "      <td>Santa Magdalena de Pulpis</td>\n",
       "      <td>1</td>\n",
       "      <td>Vinaròs</td>\n",
       "    </tr>\n",
       "    <tr>\n",
       "      <th>12</th>\n",
       "      <td>12530, 12580</td>\n",
       "      <td>Benicarló</td>\n",
       "      <td>1</td>\n",
       "      <td>Vinaròs</td>\n",
       "    </tr>\n",
       "    <tr>\n",
       "      <th>12</th>\n",
       "      <td>12598</td>\n",
       "      <td>Peñíscola</td>\n",
       "      <td>1</td>\n",
       "      <td>Vinaròs</td>\n",
       "    </tr>\n",
       "    <tr>\n",
       "      <th>...</th>\n",
       "      <td>...</td>\n",
       "      <td>...</td>\n",
       "      <td>...</td>\n",
       "      <td>...</td>\n",
       "    </tr>\n",
       "    <tr>\n",
       "      <th>08</th>\n",
       "      <td>08593</td>\n",
       "      <td>Tagamanent</td>\n",
       "      <td>0</td>\n",
       "      <td>Barcelona</td>\n",
       "    </tr>\n",
       "    <tr>\n",
       "      <th>08</th>\n",
       "      <td>08470, 08471</td>\n",
       "      <td>Vallgorguina</td>\n",
       "      <td>0</td>\n",
       "      <td>Barcelona</td>\n",
       "    </tr>\n",
       "    <tr>\n",
       "      <th>08</th>\n",
       "      <td>08188</td>\n",
       "      <td>Vallromanes</td>\n",
       "      <td>0</td>\n",
       "      <td>Barcelona</td>\n",
       "    </tr>\n",
       "    <tr>\n",
       "      <th>08</th>\n",
       "      <td>08455</td>\n",
       "      <td>Vilalba Sasserra</td>\n",
       "      <td>0</td>\n",
       "      <td>Barcelona</td>\n",
       "    </tr>\n",
       "    <tr>\n",
       "      <th>08</th>\n",
       "      <td>08410</td>\n",
       "      <td>Vilanova del Vallès</td>\n",
       "      <td>0</td>\n",
       "      <td>Barcelona</td>\n",
       "    </tr>\n",
       "  </tbody>\n",
       "</table>\n",
       "<p>824 rows × 4 columns</p>\n",
       "</div>"
      ],
      "text/plain": [
       "                     CP                  Municipio  Fase Territorio\n",
       "Provincia                                                          \n",
       "12         12570, 12579           Alcalà de Xivert     1    Vinaròs\n",
       "12                12579                 Alcossebre     1    Vinaròs\n",
       "12                12579  Santa Magdalena de Pulpis     1    Vinaròs\n",
       "12         12530, 12580                  Benicarló     1    Vinaròs\n",
       "12                12598                  Peñíscola     1    Vinaròs\n",
       "...                 ...                        ...   ...        ...\n",
       "08                08593                 Tagamanent     0  Barcelona\n",
       "08         08470, 08471               Vallgorguina     0  Barcelona\n",
       "08                08188                Vallromanes     0  Barcelona\n",
       "08                08455           Vilalba Sasserra     0  Barcelona\n",
       "08                08410        Vilanova del Vallès     0  Barcelona\n",
       "\n",
       "[824 rows x 4 columns]"
      ]
     },
     "execution_count": 4,
     "metadata": {},
     "output_type": "execute_result"
    }
   ],
   "source": [
    "# The dataframe index becomes the code of the province \n",
    "# with an exception\n",
    "\n",
    "byCode = excep.set_index([\"Provincia\"])\n",
    "\n",
    "byCode"
   ]
  },
  {
   "cell_type": "code",
   "execution_count": 5,
   "metadata": {},
   "outputs": [
    {
     "data": {
      "text/html": [
       "<div>\n",
       "<style scoped>\n",
       "    .dataframe tbody tr th:only-of-type {\n",
       "        vertical-align: middle;\n",
       "    }\n",
       "\n",
       "    .dataframe tbody tr th {\n",
       "        vertical-align: top;\n",
       "    }\n",
       "\n",
       "    .dataframe thead th {\n",
       "        text-align: right;\n",
       "    }\n",
       "</style>\n",
       "<table border=\"1\" class=\"dataframe\">\n",
       "  <thead>\n",
       "    <tr style=\"text-align: right;\">\n",
       "      <th></th>\n",
       "      <th>CP</th>\n",
       "      <th>Municipio</th>\n",
       "      <th>Fase</th>\n",
       "      <th>Territorio</th>\n",
       "    </tr>\n",
       "    <tr>\n",
       "      <th>Provincia</th>\n",
       "      <th></th>\n",
       "      <th></th>\n",
       "      <th></th>\n",
       "      <th></th>\n",
       "    </tr>\n",
       "  </thead>\n",
       "  <tbody>\n",
       "    <tr>\n",
       "      <th>12</th>\n",
       "      <td>12570</td>\n",
       "      <td>Alcalà de Xivert</td>\n",
       "      <td>1</td>\n",
       "      <td>Vinaròs</td>\n",
       "    </tr>\n",
       "    <tr>\n",
       "      <th>12</th>\n",
       "      <td>12579</td>\n",
       "      <td>Alcalà de Xivert</td>\n",
       "      <td>1</td>\n",
       "      <td>Vinaròs</td>\n",
       "    </tr>\n",
       "    <tr>\n",
       "      <th>12</th>\n",
       "      <td>12579</td>\n",
       "      <td>Alcossebre</td>\n",
       "      <td>1</td>\n",
       "      <td>Vinaròs</td>\n",
       "    </tr>\n",
       "    <tr>\n",
       "      <th>12</th>\n",
       "      <td>12579</td>\n",
       "      <td>Santa Magdalena de Pulpis</td>\n",
       "      <td>1</td>\n",
       "      <td>Vinaròs</td>\n",
       "    </tr>\n",
       "    <tr>\n",
       "      <th>12</th>\n",
       "      <td>12530</td>\n",
       "      <td>Benicarló</td>\n",
       "      <td>1</td>\n",
       "      <td>Vinaròs</td>\n",
       "    </tr>\n",
       "  </tbody>\n",
       "</table>\n",
       "</div>"
      ],
      "text/plain": [
       "              CP                  Municipio  Fase Territorio\n",
       "Provincia                                                   \n",
       "12         12570           Alcalà de Xivert     1    Vinaròs\n",
       "12         12579           Alcalà de Xivert     1    Vinaròs\n",
       "12         12579                 Alcossebre     1    Vinaròs\n",
       "12         12579  Santa Magdalena de Pulpis     1    Vinaròs\n",
       "12         12530                  Benicarló     1    Vinaròs"
      ]
     },
     "execution_count": 5,
     "metadata": {},
     "output_type": "execute_result"
    }
   ],
   "source": [
    "# Several municipalities have several Zip Codes\n",
    "# The column is exploded and cleaned\n",
    "\n",
    "def clean_CP(df):\n",
    "    df[\"CP\"] = df[\"CP\"].apply(lambda X: X.split(\",\"))\n",
    "    df = df.explode(\"CP\")\n",
    "    df[\"CP\"] = df[\"CP\"].apply(lambda X: X.replace(\" \", \"\"))\n",
    "    df[\"CP\"] = df[\"CP\"].apply(lambda X: X.replace(\"\\t\", \"\"))\n",
    "    return df\n",
    "\n",
    "df = clean_CP(byCode)\n",
    "df.head()"
   ]
  },
  {
   "cell_type": "markdown",
   "metadata": {},
   "source": [
    "## 🛠 Handling the exceptions into a dict"
   ]
  },
  {
   "cell_type": "markdown",
   "metadata": {},
   "source": [
    "### I want my database to be a nested dictionary where in the case of Excepcion = True, an object with all the zip codes that have an exception is returned."
   ]
  },
  {
   "cell_type": "code",
   "execution_count": 6,
   "metadata": {},
   "outputs": [
    {
     "name": "stdout",
     "output_type": "stream",
     "text": [
      "dict_keys(['08', '03', '46', '49', '09', '24', '12', '47', '37', '05', '34', '38', '42', '07', '40', '35'])\n"
     ]
    }
   ],
   "source": [
    "# A dictionary of dataframes is created\n",
    "# Each dataframe will be grouped by each Zip Code\n",
    "\n",
    "codigos = byCode.index.value_counts().index.to_list()\n",
    "\n",
    "dfDict = {codigo : df.loc[codigo] for codigo in codigos}\n",
    "\n",
    "print(dfDict.keys())"
   ]
  },
  {
   "cell_type": "code",
   "execution_count": 7,
   "metadata": {},
   "outputs": [
    {
     "name": "stdout",
     "output_type": "stream",
     "text": [
      "{'CP': '08731', 'Municipio': 'Avinyonet del Penedès', 'Fase': 0, 'Territorio': 'Barcelona'}\n"
     ]
    }
   ],
   "source": [
    "# Each df of dfDict is converted to a dictionary of dictionaries\n",
    "\n",
    "dictDict = {}\n",
    "for i in dfDict:\n",
    "    dictDict[i] = dfDict[i].to_dict(\"record\")\n",
    "\n",
    "print(dictDict[\"08\"][0])"
   ]
  },
  {
   "cell_type": "code",
   "execution_count": 8,
   "metadata": {},
   "outputs": [
    {
     "data": {
      "text/plain": [
       "'\\ndictDict[\"35\"] = dfDict[\"35\"].to_dict()\\ndictDict.keys()'"
      ]
     },
     "execution_count": 8,
     "metadata": {},
     "output_type": "execute_result"
    }
   ],
   "source": [
    "# Añado aparte el CP 35 porque es una serie y arriba me da error\n",
    "\"\"\"\n",
    "dictDict[\"35\"] = dfDict[\"35\"].to_dict()\n",
    "dictDict.keys()\"\"\""
   ]
  },
  {
   "cell_type": "code",
   "execution_count": 9,
   "metadata": {},
   "outputs": [],
   "source": [
    "# Trato cada diccionario de dataframes para que me devuelva la arquitectura que quiero\n",
    "\n",
    "def parse_excepcion(dfDict, code):\n",
    "    dictio ={}\n",
    "    dictio[code] = dfDict[code].to_dict(\"record\")\n",
    "    d_temp = {}\n",
    "    for territory in dictio[code]:\n",
    "        d_temp[territory['CP']] = {'Fase':territory['Fase'],'Territorio':territory['Territorio']}\n",
    "\n",
    "    return d_temp"
   ]
  },
  {
   "cell_type": "code",
   "execution_count": 10,
   "metadata": {},
   "outputs": [
    {
     "name": "stdout",
     "output_type": "stream",
     "text": [
      "{'CP': '04', 'Provincia': 'Almería', 'Fase': '1', 'Excepcion': 'FALSE'}\n",
      "{'CP': '49', 'Provincia': 'Zamora', 'Fase': 'Parcial', 'Excepcion': 'TRUE'}\n"
     ]
    }
   ],
   "source": [
    "# The initial prov df is converted to dictionary so I can change the value when \"Excepcion\" = True\n",
    "\n",
    "data_dict = prov.to_dict(\"records\")\n",
    "\n",
    "print(data_dict[0])\n",
    "print(data_dict[-1])"
   ]
  },
  {
   "cell_type": "code",
   "execution_count": 11,
   "metadata": {},
   "outputs": [
    {
     "ename": "KeyError",
     "evalue": "'04'",
     "output_type": "error",
     "traceback": [
      "\u001b[0;31m---------------------------------------------------------------------------\u001b[0m",
      "\u001b[0;31mKeyError\u001b[0m                                  Traceback (most recent call last)",
      "\u001b[0;32m<ipython-input-11-105356320c79>\u001b[0m in \u001b[0;36m<module>\u001b[0;34m\u001b[0m\n\u001b[1;32m      5\u001b[0m     \u001b[0;32mif\u001b[0m \u001b[0mvalue\u001b[0m\u001b[0;34m[\u001b[0m\u001b[0;34m'Excepcion'\u001b[0m\u001b[0;34m]\u001b[0m\u001b[0;34m:\u001b[0m\u001b[0;34m\u001b[0m\u001b[0;34m\u001b[0m\u001b[0m\n\u001b[1;32m      6\u001b[0m         \u001b[0mprefijo\u001b[0m \u001b[0;34m=\u001b[0m \u001b[0mvalue\u001b[0m\u001b[0;34m[\u001b[0m\u001b[0;34m\"CP\"\u001b[0m\u001b[0;34m]\u001b[0m\u001b[0;34m\u001b[0m\u001b[0;34m\u001b[0m\u001b[0m\n\u001b[0;32m----> 7\u001b[0;31m         \u001b[0mexcepcion\u001b[0m \u001b[0;34m=\u001b[0m \u001b[0mparse_excepcion\u001b[0m\u001b[0;34m(\u001b[0m\u001b[0mdfDict\u001b[0m\u001b[0;34m,\u001b[0m \u001b[0mprefijo\u001b[0m\u001b[0;34m)\u001b[0m\u001b[0;34m\u001b[0m\u001b[0;34m\u001b[0m\u001b[0m\n\u001b[0m\u001b[1;32m      8\u001b[0m         \u001b[0mvalue\u001b[0m\u001b[0;34m[\u001b[0m\u001b[0;34m'Excepcion'\u001b[0m\u001b[0;34m]\u001b[0m \u001b[0;34m=\u001b[0m \u001b[0mexcepcion\u001b[0m\u001b[0;34m\u001b[0m\u001b[0;34m\u001b[0m\u001b[0m\n\u001b[1;32m      9\u001b[0m \u001b[0;34m\u001b[0m\u001b[0m\n",
      "\u001b[0;32m<ipython-input-9-b92f49c312d8>\u001b[0m in \u001b[0;36mparse_excepcion\u001b[0;34m(dfDict, code)\u001b[0m\n\u001b[1;32m      3\u001b[0m \u001b[0;32mdef\u001b[0m \u001b[0mparse_excepcion\u001b[0m\u001b[0;34m(\u001b[0m\u001b[0mdfDict\u001b[0m\u001b[0;34m,\u001b[0m \u001b[0mcode\u001b[0m\u001b[0;34m)\u001b[0m\u001b[0;34m:\u001b[0m\u001b[0;34m\u001b[0m\u001b[0;34m\u001b[0m\u001b[0m\n\u001b[1;32m      4\u001b[0m     \u001b[0mdictio\u001b[0m \u001b[0;34m=\u001b[0m\u001b[0;34m{\u001b[0m\u001b[0;34m}\u001b[0m\u001b[0;34m\u001b[0m\u001b[0;34m\u001b[0m\u001b[0m\n\u001b[0;32m----> 5\u001b[0;31m     \u001b[0mdictio\u001b[0m\u001b[0;34m[\u001b[0m\u001b[0mcode\u001b[0m\u001b[0;34m]\u001b[0m \u001b[0;34m=\u001b[0m \u001b[0mdfDict\u001b[0m\u001b[0;34m[\u001b[0m\u001b[0mcode\u001b[0m\u001b[0;34m]\u001b[0m\u001b[0;34m.\u001b[0m\u001b[0mto_dict\u001b[0m\u001b[0;34m(\u001b[0m\u001b[0;34m\"record\"\u001b[0m\u001b[0;34m)\u001b[0m\u001b[0;34m\u001b[0m\u001b[0;34m\u001b[0m\u001b[0m\n\u001b[0m\u001b[1;32m      6\u001b[0m     \u001b[0md_temp\u001b[0m \u001b[0;34m=\u001b[0m \u001b[0;34m{\u001b[0m\u001b[0;34m}\u001b[0m\u001b[0;34m\u001b[0m\u001b[0;34m\u001b[0m\u001b[0m\n\u001b[1;32m      7\u001b[0m     \u001b[0;32mfor\u001b[0m \u001b[0mterritory\u001b[0m \u001b[0;32min\u001b[0m \u001b[0mdictio\u001b[0m\u001b[0;34m[\u001b[0m\u001b[0mcode\u001b[0m\u001b[0;34m]\u001b[0m\u001b[0;34m:\u001b[0m\u001b[0;34m\u001b[0m\u001b[0;34m\u001b[0m\u001b[0m\n",
      "\u001b[0;31mKeyError\u001b[0m: '04'"
     ]
    }
   ],
   "source": [
    "# data_dict when Excepcion = True is changed\n",
    "# Now it is parsed as I want it\n",
    "\n",
    "for value in data_dict:\n",
    "    if value['Excepcion']:\n",
    "        prefijo = value[\"CP\"]\n",
    "        excepcion = parse_excepcion(dfDict, prefijo)\n",
    "        value['Excepcion'] = excepcion\n",
    "        \n",
    "print(data_dict[0])\n",
    "print(data_dict[-1])"
   ]
  },
  {
   "cell_type": "code",
   "execution_count": 12,
   "metadata": {},
   "outputs": [
    {
     "data": {
      "text/plain": [
       "[{'CP': '04', 'Provincia': 'Almería', 'Fase': '1', 'Excepcion': 'FALSE'},\n",
       " {'CP': '11', 'Provincia': 'Cádiz', 'Fase': '1', 'Excepcion': 'FALSE'},\n",
       " {'CP': '14', 'Provincia': 'Córdoba', 'Fase': '1', 'Excepcion': 'FALSE'},\n",
       " {'CP': '21', 'Provincia': 'Huelva', 'Fase': '1', 'Excepcion': 'FALSE'},\n",
       " {'CP': '23', 'Provincia': 'Jaén', 'Fase': '1', 'Excepcion': 'FALSE'},\n",
       " {'CP': '41', 'Provincia': 'Sevilla', 'Fase': '1', 'Excepcion': 'FALSE'},\n",
       " {'CP': '22', 'Provincia': 'Huesca', 'Fase': '1', 'Excepcion': 'FALSE'},\n",
       " {'CP': '44', 'Provincia': 'Teruel', 'Fase': '1', 'Excepcion': 'FALSE'},\n",
       " {'CP': '50', 'Provincia': 'Zaragoza', 'Fase': '1', 'Excepcion': 'FALSE'},\n",
       " {'CP': '33', 'Provincia': 'Asturias', 'Fase': '1', 'Excepcion': 'FALSE'},\n",
       " {'CP': '07', 'Provincia': 'Ballears', 'Fase': '1', 'Excepcion': 'FALSE'},\n",
       " {'CP': '38', 'Provincia': 'Tenerife', 'Fase': '1', 'Excepcion': 'FALSE'},\n",
       " {'CP': '35', 'Provincia': 'Las Palmas', 'Fase': '1', 'Excepcion': 'FALSE'},\n",
       " {'CP': '39', 'Provincia': 'Cantabria', 'Fase': '1', 'Excepcion': 'FALSE'},\n",
       " {'CP': '19', 'Provincia': 'Guadalajara', 'Fase': '1', 'Excepcion': 'FALSE'},\n",
       " {'CP': '16', 'Provincia': 'Cuenca', 'Fase': '1', 'Excepcion': 'FALSE'},\n",
       " {'CP': '51', 'Provincia': 'Ceuta', 'Fase': '1', 'Excepcion': 'FALSE'},\n",
       " {'CP': '10', 'Provincia': 'Cáceres', 'Fase': '1', 'Excepcion': 'FALSE'},\n",
       " {'CP': '06', 'Provincia': 'Badajoz', 'Fase': '1', 'Excepcion': 'FALSE'},\n",
       " {'CP': '15', 'Provincia': 'A Coruña', 'Fase': '1', 'Excepcion': 'FALSE'},\n",
       " {'CP': '27', 'Provincia': 'Lugo', 'Fase': '1', 'Excepcion': 'FALSE'},\n",
       " {'CP': '32', 'Provincia': 'Ourense', 'Fase': '1', 'Excepcion': 'FALSE'},\n",
       " {'CP': '36', 'Provincia': 'Pontevedra', 'Fase': '1', 'Excepcion': 'FALSE'},\n",
       " {'CP': '26', 'Provincia': 'La Rioja', 'Fase': '1', 'Excepcion': 'FALSE'},\n",
       " {'CP': '52', 'Provincia': 'Melilla', 'Fase': '1', 'Excepcion': 'FALSE'},\n",
       " {'CP': '30', 'Provincia': 'Murcia', 'Fase': '1', 'Excepcion': 'FALSE'},\n",
       " {'CP': '31', 'Provincia': 'Navarra', 'Fase': '1', 'Excepcion': 'FALSE'},\n",
       " {'CP': '01', 'Provincia': 'Araba', 'Fase': '1', 'Excepcion': 'FALSE'},\n",
       " {'CP': '48', 'Provincia': 'Bizkaia', 'Fase': '1', 'Excepcion': 'FALSE'},\n",
       " {'CP': '20', 'Provincia': 'Gipuzkoa', 'Fase': '1', 'Excepcion': 'FALSE'},\n",
       " {'CP': '02', 'Provincia': 'Albacete', 'Fase': '1', 'Excepcion': 'FALSE'},\n",
       " {'CP': '03', 'Provincia': 'Alicante', 'Fase': '1', 'Excepcion': 'FALSO'},\n",
       " {'CP': '05', 'Provincia': 'Ávila', 'Fase': 'Parcial', 'Excepcion': 'TRUE'},\n",
       " {'CP': '08',\n",
       "  'Provincia': 'Barcelona',\n",
       "  'Fase': 'Parcial',\n",
       "  'Excepcion': 'VERDADERO'},\n",
       " {'CP': '09', 'Provincia': 'Burgos', 'Fase': 'Parcial', 'Excepcion': 'TRUE'},\n",
       " {'CP': '12', 'Provincia': 'Castellón', 'Fase': '1', 'Excepcion': 'FALSO'},\n",
       " {'CP': '13', 'Provincia': 'Ciudad Real', 'Fase': '1', 'Excepcion': 'FALSE'},\n",
       " {'CP': '17', 'Provincia': 'Girona', 'Fase': '1', 'Excepcion': 'FALSE'},\n",
       " {'CP': '18', 'Provincia': 'Granada', 'Fase': '1', 'Excepcion': 'FALSE'},\n",
       " {'CP': '24', 'Provincia': 'León', 'Fase': 'Parcial', 'Excepcion': 'TRUE'},\n",
       " {'CP': '25', 'Provincia': 'Lleida', 'Fase': '1', 'Excepcion': 'FALSO'},\n",
       " {'CP': '28', 'Provincia': 'Madrid', 'Fase': '0', 'Excepcion': 'FALSE'},\n",
       " {'CP': '29', 'Provincia': 'Málaga', 'Fase': '1', 'Excepcion': 'FALSE'},\n",
       " {'CP': '34', 'Provincia': 'Palencia', 'Fase': 'Parcial', 'Excepcion': 'TRUE'},\n",
       " {'CP': '37',\n",
       "  'Provincia': 'Salamanca',\n",
       "  'Fase': 'Parcial',\n",
       "  'Excepcion': 'TRUE'},\n",
       " {'CP': '40',\n",
       "  'Provincia': 'Segovia',\n",
       "  'Fase': 'Parcial',\n",
       "  'Excepcion': 'VERDADERO'},\n",
       " {'CP': '42', 'Provincia': 'Soria', 'Fase': 'Parcial', 'Excepcion': 'TRUE'},\n",
       " {'CP': '43', 'Provincia': 'Tarragona', 'Fase': '1', 'Excepcion': 'FALSO'},\n",
       " {'CP': '45', 'Provincia': 'Toledo', 'Fase': '1', 'Excepcion': 'FALSE'},\n",
       " {'CP': '46', 'Provincia': 'Valencia', 'Fase': '1', 'Excepcion': 'FALSO'},\n",
       " {'CP': '47',\n",
       "  'Provincia': 'Valladolid',\n",
       "  'Fase': 'Parcial',\n",
       "  'Excepcion': 'TRUE'},\n",
       " {'CP': '49', 'Provincia': 'Zamora', 'Fase': 'Parcial', 'Excepcion': 'TRUE'}]"
      ]
     },
     "execution_count": 12,
     "metadata": {},
     "output_type": "execute_result"
    }
   ],
   "source": [
    "data_dict"
   ]
  },
  {
   "cell_type": "markdown",
   "metadata": {},
   "source": [
    "## 🌍 Connection to MongoDB server"
   ]
  },
  {
   "cell_type": "code",
   "execution_count": null,
   "metadata": {},
   "outputs": [],
   "source": [
    "# Setting up the connection to the database\n",
    "\n",
    "client = MongoClient()\n",
    "\n",
    "def insertRecord(dictionary):\n",
    "    db = client[\"unanuevanormalidad\"] # Creo db\n",
    "    collection = db[\"data\"] # Creo collection\n",
    "    collection.insert_many(dictionary)\n"
   ]
  },
  {
   "cell_type": "code",
   "execution_count": null,
   "metadata": {},
   "outputs": [],
   "source": [
    "# Final dictionary is added to the database\n",
    "\n",
    "#insertRecord(data_dict)"
   ]
  },
  {
   "cell_type": "code",
   "execution_count": null,
   "metadata": {},
   "outputs": [],
   "source": [
    "data_dict[-1]"
   ]
  },
  {
   "cell_type": "code",
   "execution_count": null,
   "metadata": {},
   "outputs": [],
   "source": []
  }
 ],
 "metadata": {
  "kernelspec": {
   "display_name": "Python 3",
   "language": "python",
   "name": "python3"
  },
  "language_info": {
   "codemirror_mode": {
    "name": "ipython",
    "version": 3
   },
   "file_extension": ".py",
   "mimetype": "text/x-python",
   "name": "python",
   "nbconvert_exporter": "python",
   "pygments_lexer": "ipython3",
   "version": "3.7.5"
  }
 },
 "nbformat": 4,
 "nbformat_minor": 2
}
