{
 "cells": [
  {
   "cell_type": "markdown",
   "metadata": {},
   "source": [
    "# Una nueva normalidad "
   ]
  },
  {
   "cell_type": "markdown",
   "metadata": {},
   "source": [
    "<img src=images/highres.jpg alt=\"170\" width=\"850\"/>"
   ]
  },
  {
   "cell_type": "code",
   "execution_count": 1,
   "metadata": {},
   "outputs": [],
   "source": [
    "import numpy as np\n",
    "import pandas as pd\n",
    "from pymongo import MongoClient"
   ]
  },
  {
   "cell_type": "code",
   "execution_count": 2,
   "metadata": {},
   "outputs": [],
   "source": [
    "# Two datasets are imported:\n",
    "# prov reports on the situation of the 52 provinces\n",
    "# excep handles the exceptions for all the municipalities inside the province\n",
    "\n",
    "prov = pd.read_csv(\"data/Provincias.csv\", dtype={\"CP\": object})\n",
    "excep = pd.read_csv(\"data/Excepciones.csv\", dtype={\"CP\": object, \"Provincia\": object})"
   ]
  },
  {
   "cell_type": "code",
   "execution_count": 3,
   "metadata": {},
   "outputs": [
    {
     "data": {
      "text/html": [
       "<div>\n",
       "<style scoped>\n",
       "    .dataframe tbody tr th:only-of-type {\n",
       "        vertical-align: middle;\n",
       "    }\n",
       "\n",
       "    .dataframe tbody tr th {\n",
       "        vertical-align: top;\n",
       "    }\n",
       "\n",
       "    .dataframe thead th {\n",
       "        text-align: right;\n",
       "    }\n",
       "</style>\n",
       "<table border=\"1\" class=\"dataframe\">\n",
       "  <thead>\n",
       "    <tr style=\"text-align: right;\">\n",
       "      <th></th>\n",
       "      <th>CP</th>\n",
       "      <th>Provincia</th>\n",
       "      <th>Fase</th>\n",
       "      <th>Excepcion</th>\n",
       "    </tr>\n",
       "  </thead>\n",
       "  <tbody>\n",
       "    <tr>\n",
       "      <th>0</th>\n",
       "      <td>04</td>\n",
       "      <td>Almería</td>\n",
       "      <td>1</td>\n",
       "      <td>False</td>\n",
       "    </tr>\n",
       "    <tr>\n",
       "      <th>1</th>\n",
       "      <td>11</td>\n",
       "      <td>Cádiz</td>\n",
       "      <td>1</td>\n",
       "      <td>False</td>\n",
       "    </tr>\n",
       "    <tr>\n",
       "      <th>2</th>\n",
       "      <td>14</td>\n",
       "      <td>Córdoba</td>\n",
       "      <td>1</td>\n",
       "      <td>False</td>\n",
       "    </tr>\n",
       "    <tr>\n",
       "      <th>3</th>\n",
       "      <td>21</td>\n",
       "      <td>Huelva</td>\n",
       "      <td>1</td>\n",
       "      <td>False</td>\n",
       "    </tr>\n",
       "    <tr>\n",
       "      <th>4</th>\n",
       "      <td>23</td>\n",
       "      <td>Jaén</td>\n",
       "      <td>1</td>\n",
       "      <td>False</td>\n",
       "    </tr>\n",
       "  </tbody>\n",
       "</table>\n",
       "</div>"
      ],
      "text/plain": [
       "   CP Provincia Fase  Excepcion\n",
       "0  04   Almería    1      False\n",
       "1  11     Cádiz    1      False\n",
       "2  14   Córdoba    1      False\n",
       "3  21    Huelva    1      False\n",
       "4  23      Jaén    1      False"
      ]
     },
     "metadata": {},
     "output_type": "display_data"
    },
    {
     "data": {
      "text/html": [
       "<div>\n",
       "<style scoped>\n",
       "    .dataframe tbody tr th:only-of-type {\n",
       "        vertical-align: middle;\n",
       "    }\n",
       "\n",
       "    .dataframe tbody tr th {\n",
       "        vertical-align: top;\n",
       "    }\n",
       "\n",
       "    .dataframe thead th {\n",
       "        text-align: right;\n",
       "    }\n",
       "</style>\n",
       "<table border=\"1\" class=\"dataframe\">\n",
       "  <thead>\n",
       "    <tr style=\"text-align: right;\">\n",
       "      <th></th>\n",
       "      <th>Provincia</th>\n",
       "      <th>CP</th>\n",
       "      <th>Municipio</th>\n",
       "      <th>Fase</th>\n",
       "      <th>Territorio</th>\n",
       "    </tr>\n",
       "  </thead>\n",
       "  <tbody>\n",
       "    <tr>\n",
       "      <th>0</th>\n",
       "      <td>43</td>\n",
       "      <td>43896</td>\n",
       "      <td>Aldea (Baix Ebre)</td>\n",
       "      <td>1</td>\n",
       "      <td>Terres de l'Ebre</td>\n",
       "    </tr>\n",
       "    <tr>\n",
       "      <th>1</th>\n",
       "      <td>43</td>\n",
       "      <td>43591</td>\n",
       "      <td>Aldover (Baix Ebre)</td>\n",
       "      <td>1</td>\n",
       "      <td>Terres de l'Ebre</td>\n",
       "    </tr>\n",
       "    <tr>\n",
       "      <th>2</th>\n",
       "      <td>43</td>\n",
       "      <td>43528</td>\n",
       "      <td>Alfara De Carles (Baix Ebre)</td>\n",
       "      <td>1</td>\n",
       "      <td>Terres de l'Ebre</td>\n",
       "    </tr>\n",
       "    <tr>\n",
       "      <th>3</th>\n",
       "      <td>43</td>\n",
       "      <td>43860</td>\n",
       "      <td>Ametlla de Mar (Baix Ebre)</td>\n",
       "      <td>1</td>\n",
       "      <td>Terres de l'Ebre</td>\n",
       "    </tr>\n",
       "    <tr>\n",
       "      <th>4</th>\n",
       "      <td>43</td>\n",
       "      <td>43895</td>\n",
       "      <td>Ampolla (Baix Ebre)</td>\n",
       "      <td>1</td>\n",
       "      <td>Terres de l'Ebre</td>\n",
       "    </tr>\n",
       "  </tbody>\n",
       "</table>\n",
       "</div>"
      ],
      "text/plain": [
       "  Provincia     CP                     Municipio  Fase        Territorio\n",
       "0        43  43896             Aldea (Baix Ebre)     1  Terres de l'Ebre\n",
       "1        43  43591           Aldover (Baix Ebre)     1  Terres de l'Ebre\n",
       "2        43  43528  Alfara De Carles (Baix Ebre)     1  Terres de l'Ebre\n",
       "3        43  43860    Ametlla de Mar (Baix Ebre)     1  Terres de l'Ebre\n",
       "4        43  43895           Ampolla (Baix Ebre)     1  Terres de l'Ebre"
      ]
     },
     "metadata": {},
     "output_type": "display_data"
    }
   ],
   "source": [
    "display(prov.head())\n",
    "display(excep.head())"
   ]
  },
  {
   "cell_type": "markdown",
   "metadata": {},
   "source": [
    "## 🧹 Handling the \"CP\" column"
   ]
  },
  {
   "cell_type": "code",
   "execution_count": 4,
   "metadata": {},
   "outputs": [
    {
     "data": {
      "text/html": [
       "<div>\n",
       "<style scoped>\n",
       "    .dataframe tbody tr th:only-of-type {\n",
       "        vertical-align: middle;\n",
       "    }\n",
       "\n",
       "    .dataframe tbody tr th {\n",
       "        vertical-align: top;\n",
       "    }\n",
       "\n",
       "    .dataframe thead th {\n",
       "        text-align: right;\n",
       "    }\n",
       "</style>\n",
       "<table border=\"1\" class=\"dataframe\">\n",
       "  <thead>\n",
       "    <tr style=\"text-align: right;\">\n",
       "      <th></th>\n",
       "      <th>CP</th>\n",
       "      <th>Municipio</th>\n",
       "      <th>Fase</th>\n",
       "      <th>Territorio</th>\n",
       "    </tr>\n",
       "    <tr>\n",
       "      <th>Provincia</th>\n",
       "      <th></th>\n",
       "      <th></th>\n",
       "      <th></th>\n",
       "      <th></th>\n",
       "    </tr>\n",
       "  </thead>\n",
       "  <tbody>\n",
       "    <tr>\n",
       "      <th>43</th>\n",
       "      <td>43896</td>\n",
       "      <td>Aldea (Baix Ebre)</td>\n",
       "      <td>1</td>\n",
       "      <td>Terres de l'Ebre</td>\n",
       "    </tr>\n",
       "    <tr>\n",
       "      <th>43</th>\n",
       "      <td>43591</td>\n",
       "      <td>Aldover (Baix Ebre)</td>\n",
       "      <td>1</td>\n",
       "      <td>Terres de l'Ebre</td>\n",
       "    </tr>\n",
       "    <tr>\n",
       "      <th>43</th>\n",
       "      <td>43528</td>\n",
       "      <td>Alfara De Carles (Baix Ebre)</td>\n",
       "      <td>1</td>\n",
       "      <td>Terres de l'Ebre</td>\n",
       "    </tr>\n",
       "    <tr>\n",
       "      <th>43</th>\n",
       "      <td>43860</td>\n",
       "      <td>Ametlla de Mar (Baix Ebre)</td>\n",
       "      <td>1</td>\n",
       "      <td>Terres de l'Ebre</td>\n",
       "    </tr>\n",
       "    <tr>\n",
       "      <th>43</th>\n",
       "      <td>43895</td>\n",
       "      <td>Ampolla (Baix Ebre)</td>\n",
       "      <td>1</td>\n",
       "      <td>Terres de l'Ebre</td>\n",
       "    </tr>\n",
       "    <tr>\n",
       "      <th>...</th>\n",
       "      <td>...</td>\n",
       "      <td>...</td>\n",
       "      <td>...</td>\n",
       "      <td>...</td>\n",
       "    </tr>\n",
       "    <tr>\n",
       "      <th>49</th>\n",
       "      <td>49630</td>\n",
       "      <td>Villalpando</td>\n",
       "      <td>1</td>\n",
       "      <td>Villalpando</td>\n",
       "    </tr>\n",
       "    <tr>\n",
       "      <th>49</th>\n",
       "      <td>49131</td>\n",
       "      <td>Villamayor de Campos</td>\n",
       "      <td>1</td>\n",
       "      <td>Villalpando</td>\n",
       "    </tr>\n",
       "    <tr>\n",
       "      <th>49</th>\n",
       "      <td>49100\\t</td>\n",
       "      <td>Villanueva del Campo</td>\n",
       "      <td>1</td>\n",
       "      <td>Villalpando</td>\n",
       "    </tr>\n",
       "    <tr>\n",
       "      <th>49</th>\n",
       "      <td>49132</td>\n",
       "      <td>Villar de Fallaves</td>\n",
       "      <td>1</td>\n",
       "      <td>Villalpando</td>\n",
       "    </tr>\n",
       "    <tr>\n",
       "      <th>49</th>\n",
       "      <td>49129</td>\n",
       "      <td>Villardiga</td>\n",
       "      <td>1</td>\n",
       "      <td>Villalpando</td>\n",
       "    </tr>\n",
       "  </tbody>\n",
       "</table>\n",
       "<p>795 rows × 4 columns</p>\n",
       "</div>"
      ],
      "text/plain": [
       "                CP                     Municipio  Fase        Territorio\n",
       "Provincia                                                               \n",
       "43           43896             Aldea (Baix Ebre)     1  Terres de l'Ebre\n",
       "43           43591           Aldover (Baix Ebre)     1  Terres de l'Ebre\n",
       "43           43528  Alfara De Carles (Baix Ebre)     1  Terres de l'Ebre\n",
       "43           43860    Ametlla de Mar (Baix Ebre)     1  Terres de l'Ebre\n",
       "43           43895           Ampolla (Baix Ebre)     1  Terres de l'Ebre\n",
       "...            ...                           ...   ...               ...\n",
       "49           49630                   Villalpando     1       Villalpando\n",
       "49           49131          Villamayor de Campos     1       Villalpando\n",
       "49         49100\\t          Villanueva del Campo     1       Villalpando\n",
       "49           49132            Villar de Fallaves     1       Villalpando\n",
       "49           49129                    Villardiga     1       Villalpando\n",
       "\n",
       "[795 rows x 4 columns]"
      ]
     },
     "execution_count": 4,
     "metadata": {},
     "output_type": "execute_result"
    }
   ],
   "source": [
    "# The dataframe index becomes the code of the province \n",
    "# with an exception\n",
    "\n",
    "byCode = excep.set_index([\"Provincia\"])\n",
    "\n",
    "byCode"
   ]
  },
  {
   "cell_type": "code",
   "execution_count": 5,
   "metadata": {},
   "outputs": [
    {
     "data": {
      "text/html": [
       "<div>\n",
       "<style scoped>\n",
       "    .dataframe tbody tr th:only-of-type {\n",
       "        vertical-align: middle;\n",
       "    }\n",
       "\n",
       "    .dataframe tbody tr th {\n",
       "        vertical-align: top;\n",
       "    }\n",
       "\n",
       "    .dataframe thead th {\n",
       "        text-align: right;\n",
       "    }\n",
       "</style>\n",
       "<table border=\"1\" class=\"dataframe\">\n",
       "  <thead>\n",
       "    <tr style=\"text-align: right;\">\n",
       "      <th></th>\n",
       "      <th>CP</th>\n",
       "      <th>Municipio</th>\n",
       "      <th>Fase</th>\n",
       "      <th>Territorio</th>\n",
       "    </tr>\n",
       "    <tr>\n",
       "      <th>Provincia</th>\n",
       "      <th></th>\n",
       "      <th></th>\n",
       "      <th></th>\n",
       "      <th></th>\n",
       "    </tr>\n",
       "  </thead>\n",
       "  <tbody>\n",
       "    <tr>\n",
       "      <th>43</th>\n",
       "      <td>43896</td>\n",
       "      <td>Aldea (Baix Ebre)</td>\n",
       "      <td>1</td>\n",
       "      <td>Terres de l'Ebre</td>\n",
       "    </tr>\n",
       "    <tr>\n",
       "      <th>43</th>\n",
       "      <td>43591</td>\n",
       "      <td>Aldover (Baix Ebre)</td>\n",
       "      <td>1</td>\n",
       "      <td>Terres de l'Ebre</td>\n",
       "    </tr>\n",
       "    <tr>\n",
       "      <th>43</th>\n",
       "      <td>43528</td>\n",
       "      <td>Alfara De Carles (Baix Ebre)</td>\n",
       "      <td>1</td>\n",
       "      <td>Terres de l'Ebre</td>\n",
       "    </tr>\n",
       "    <tr>\n",
       "      <th>43</th>\n",
       "      <td>43860</td>\n",
       "      <td>Ametlla de Mar (Baix Ebre)</td>\n",
       "      <td>1</td>\n",
       "      <td>Terres de l'Ebre</td>\n",
       "    </tr>\n",
       "    <tr>\n",
       "      <th>43</th>\n",
       "      <td>43895</td>\n",
       "      <td>Ampolla (Baix Ebre)</td>\n",
       "      <td>1</td>\n",
       "      <td>Terres de l'Ebre</td>\n",
       "    </tr>\n",
       "  </tbody>\n",
       "</table>\n",
       "</div>"
      ],
      "text/plain": [
       "              CP                     Municipio  Fase        Territorio\n",
       "Provincia                                                             \n",
       "43         43896             Aldea (Baix Ebre)     1  Terres de l'Ebre\n",
       "43         43591           Aldover (Baix Ebre)     1  Terres de l'Ebre\n",
       "43         43528  Alfara De Carles (Baix Ebre)     1  Terres de l'Ebre\n",
       "43         43860    Ametlla de Mar (Baix Ebre)     1  Terres de l'Ebre\n",
       "43         43895           Ampolla (Baix Ebre)     1  Terres de l'Ebre"
      ]
     },
     "execution_count": 5,
     "metadata": {},
     "output_type": "execute_result"
    }
   ],
   "source": [
    "# Several municipalities have several Zip Codes\n",
    "# The column is exploded and cleaned\n",
    "\n",
    "def clean_CP(df):\n",
    "    df[\"CP\"] = df[\"CP\"].apply(lambda X: X.split(\",\"))\n",
    "    df = df.explode(\"CP\")\n",
    "    df[\"CP\"] = df[\"CP\"].apply(lambda X: X.replace(\" \", \"\"))\n",
    "    df[\"CP\"] = df[\"CP\"].apply(lambda X: X.replace(\"\\t\", \"\"))\n",
    "    return df\n",
    "\n",
    "df = clean_CP(byCode)\n",
    "df.head()"
   ]
  },
  {
   "cell_type": "markdown",
   "metadata": {},
   "source": [
    "## 🛠 Handling the exceptions into a dict"
   ]
  },
  {
   "cell_type": "markdown",
   "metadata": {},
   "source": [
    "### I want my database to be a nested dictionary where in the case of Excepcion = True, an object with all the zip codes that have an exception is returned."
   ]
  },
  {
   "cell_type": "code",
   "execution_count": 6,
   "metadata": {},
   "outputs": [
    {
     "name": "stdout",
     "output_type": "stream",
     "text": [
      "dict_keys(['43', '03', '46', '49', '25', '09', '12', '47', '05', '37', '24', '34', '42'])\n"
     ]
    }
   ],
   "source": [
    "# A dictionary of dataframes is created\n",
    "# Each dataframe will be grouped by each Zip Code\n",
    "\n",
    "codigos = byCode.index.value_counts().index.to_list()\n",
    "\n",
    "dfDict = {codigo : df.loc[codigo] for codigo in codigos}\n",
    "\n",
    "print(dfDict.keys())"
   ]
  },
  {
   "cell_type": "code",
   "execution_count": 7,
   "metadata": {},
   "outputs": [
    {
     "name": "stdout",
     "output_type": "stream",
     "text": [
      "{'CP': '43896', 'Municipio': 'Aldea (Baix Ebre)', 'Fase': 1, 'Territorio': \"Terres de l'Ebre\"}\n"
     ]
    }
   ],
   "source": [
    "# Each df of dfDict is converted to a dictionary of dictionaries\n",
    "\n",
    "dictDict = {}\n",
    "for i in dfDict:\n",
    "    dictDict[i] = dfDict[i].to_dict(\"record\")\n",
    "\n",
    "print(dictDict[\"43\"][0])"
   ]
  },
  {
   "cell_type": "code",
   "execution_count": 8,
   "metadata": {},
   "outputs": [],
   "source": [
    "# Trato cada diccionario de dataframes para que me devuelva la arquitectura que quiero\n",
    "\n",
    "def parse_excepcion(dfDict, code):\n",
    "    dictio ={}\n",
    "    dictio[code] = dfDict[code].to_dict(\"record\")\n",
    "    d_temp = {}\n",
    "    for territory in dictio[code]:\n",
    "        d_temp[territory['CP']] = {'Fase':territory['Fase'],'Territorio':territory['Territorio']}\n",
    "\n",
    "    return d_temp"
   ]
  },
  {
   "cell_type": "code",
   "execution_count": 9,
   "metadata": {},
   "outputs": [
    {
     "name": "stdout",
     "output_type": "stream",
     "text": [
      "{'CP': '04', 'Provincia': 'Almería', 'Fase': '1', 'Excepcion': False}\n",
      "{'CP': '49', 'Provincia': 'Zamora', 'Fase': 'Parcial', 'Excepcion': True}\n"
     ]
    }
   ],
   "source": [
    "# The initial prov df is converted to dictionary so I can change the value when \"Excepcion\" = True\n",
    "\n",
    "data_dict = prov.to_dict(\"records\")\n",
    "\n",
    "print(data_dict[0])\n",
    "print(data_dict[-1])"
   ]
  },
  {
   "cell_type": "code",
   "execution_count": 10,
   "metadata": {},
   "outputs": [
    {
     "name": "stdout",
     "output_type": "stream",
     "text": [
      "{'CP': '04', 'Provincia': 'Almería', 'Fase': '1', 'Excepcion': False}\n",
      "{'CP': '49', 'Provincia': 'Zamora', 'Fase': 'Parcial', 'Excepcion': {'49160': {'Fase': 1, 'Territorio': 'Carbajales'}, '49541': {'Fase': 1, 'Territorio': 'Carbajales'}, '49543': {'Fase': 1, 'Territorio': 'Carbajales'}, '49540': {'Fase': 1, 'Territorio': 'Tabara'}, '49163': {'Fase': 1, 'Territorio': 'Carbajales'}, '49146': {'Fase': 1, 'Territorio': 'Carbajales'}, '49147': {'Fase': 1, 'Territorio': 'Carbajales'}, '49542': {'Fase': 1, 'Territorio': 'Carbajales'}, '49164': {'Fase': 1, 'Territorio': 'Carbajales'}, '49165': {'Fase': 1, 'Territorio': 'Carbajales'}, '49571': {'Fase': 1, 'Territorio': 'Alta Sanabria'}, '49572': {'Fase': 1, 'Territorio': 'Alta Sanabria'}, '49570': {'Fase': 1, 'Territorio': 'Alta Sanabria'}, '49573': {'Fase': 1, 'Territorio': 'Alta Sanabria'}, '49574': {'Fase': 1, 'Territorio': 'Alta Sanabria'}, '49580': {'Fase': 1, 'Territorio': 'Alta Sanabria'}, '49582': {'Fase': 1, 'Territorio': 'Alta Sanabria'}, '49583': {'Fase': 1, 'Territorio': 'Alta Sanabria'}, '49141': {'Fase': 1, 'Territorio': 'Tabara'}, '49335': {'Fase': 1, 'Territorio': 'Tabara'}, '49334': {'Fase': 1, 'Territorio': 'Tabara'}, '49337': {'Fase': 1, 'Territorio': 'Tabara'}, '49550': {'Fase': 1, 'Territorio': 'Tabara'}, '49697': {'Fase': 1, 'Territorio': 'Tabara'}, '49740': {'Fase': 1, 'Territorio': 'Tabara'}, '49336': {'Fase': 1, 'Territorio': 'Tabara'}, '49145': {'Fase': 1, 'Territorio': 'Tabara'}, '49148': {'Fase': 1, 'Territorio': 'Tabara'}, '49333': {'Fase': 1, 'Territorio': 'Tabara'}, '49591': {'Fase': 1, 'Territorio': 'Tabara'}, '49592': {'Fase': 1, 'Territorio': 'Tabara'}, '49140': {'Fase': 1, 'Territorio': 'Tabara'}, '49610': {'Fase': 1, 'Territorio': 'Santibañez de Vidriales'}, '49618': {'Fase': 1, 'Territorio': 'Santibañez de Vidriales'}, '49619': {'Fase': 1, 'Territorio': 'Santibañez de Vidriales'}, '49621': {'Fase': 1, 'Territorio': 'Santibañez de Vidriales'}, '49622': {'Fase': 1, 'Territorio': 'Santibañez de Vidriales'}, '49696': {'Fase': 1, 'Territorio': 'Santibañez de Vidriales'}, '49629': {'Fase': 1, 'Territorio': 'Santibañez de Vidriales'}, '49327': {'Fase': 1, 'Territorio': 'Santibañez de Vidriales'}, '49326': {'Fase': 1, 'Territorio': 'Santibañez de Vidriales'}, '49500': {'Fase': 1, 'Territorio': 'Alcañices'}, '49514': {'Fase': 1, 'Territorio': 'Alcañices'}, '49517': {'Fase': 1, 'Territorio': 'Alcañices'}, '49518': {'Fase': 1, 'Territorio': 'Alcañices'}, '49709': {'Fase': 1, 'Territorio': 'Corrales del Vino'}, '49708': {'Fase': 1, 'Territorio': 'Corrales del Vino'}, '49700': {'Fase': 1, 'Territorio': 'Corrales del Vino'}, '49706': {'Fase': 1, 'Territorio': 'Corrales del Vino'}, '49710': {'Fase': 1, 'Territorio': 'Corrales del Vino'}, '49717': {'Fase': 1, 'Territorio': 'Corrales del Vino'}, '49714': {'Fase': 1, 'Territorio': 'Corrales del Vino'}, '49191': {'Fase': 1, 'Territorio': 'Corrales del Vino'}, '49718': {'Fase': 1, 'Territorio': 'Corrales del Vino'}, '49176': {'Fase': 1, 'Territorio': 'Corrales del Vino'}, '49177': {'Fase': 1, 'Territorio': 'Corrales del Vino'}, '49178': {'Fase': 1, 'Territorio': 'Corrales del Vino'}, '49715': {'Fase': 1, 'Territorio': 'Corrales del Vino'}, '49707': {'Fase': 1, 'Territorio': 'Corrales del Vino'}, '49128': {'Fase': 1, 'Territorio': 'Villalpando'}, '49110': {'Fase': 1, 'Territorio': 'Villalpando'}, '49640': {'Fase': 1, 'Territorio': 'Villalpando'}, '49639': {'Fase': 1, 'Territorio': 'Villalpando'}, '49638': {'Fase': 1, 'Territorio': 'Villalpando'}, '49650': {'Fase': 1, 'Territorio': 'Villalpando'}, '49129': {'Fase': 1, 'Territorio': 'Villalpando'}, '49133': {'Fase': 1, 'Territorio': 'Villalpando'}, '49134': {'Fase': 1, 'Territorio': 'Villalpando'}, '49630': {'Fase': 1, 'Territorio': 'Villalpando'}, '49131': {'Fase': 1, 'Territorio': 'Villalpando'}, '49100': {'Fase': 1, 'Territorio': 'Villalpando'}, '49132': {'Fase': 1, 'Territorio': 'Villalpando'}}}\n"
     ]
    }
   ],
   "source": [
    "# data_dict when Excepcion = True is changed\n",
    "# Now it is parsed as I want it\n",
    "\n",
    "for value in data_dict:\n",
    "    if value['Excepcion']:\n",
    "        prefijo = value[\"CP\"]\n",
    "        excepcion = parse_excepcion(dfDict, prefijo)\n",
    "        value['Excepcion'] = excepcion\n",
    "        \n",
    "print(data_dict[0])\n",
    "print(data_dict[-1])"
   ]
  },
  {
   "cell_type": "markdown",
   "metadata": {},
   "source": [
    "## 🌍 Connection to MongoDB server"
   ]
  },
  {
   "cell_type": "code",
   "execution_count": 11,
   "metadata": {},
   "outputs": [],
   "source": [
    "# Setting up the connection to the database\n",
    "\n",
    "client = MongoClient()\n",
    "\n",
    "def insertRecord(dictionary):\n",
    "    db = client[\"unanuevanormalidad\"] # Creo db\n",
    "    collection = db[\"data\"] # Creo collection\n",
    "    collection.insert_many(dictionary)"
   ]
  },
  {
   "cell_type": "code",
   "execution_count": 12,
   "metadata": {},
   "outputs": [],
   "source": [
    "# Final dictionary is added to the database\n",
    "\n",
    "insertRecord(data_dict)\n"
   ]
  }
 ],
 "metadata": {
  "kernelspec": {
   "display_name": "Python 3",
   "language": "python",
   "name": "python3"
  },
  "language_info": {
   "codemirror_mode": {
    "name": "ipython",
    "version": 3
   },
   "file_extension": ".py",
   "mimetype": "text/x-python",
   "name": "python",
   "nbconvert_exporter": "python",
   "pygments_lexer": "ipython3",
   "version": "3.7.5"
  }
 },
 "nbformat": 4,
 "nbformat_minor": 2
}
